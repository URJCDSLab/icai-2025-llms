{
 "cells": [
  {
   "cell_type": "markdown",
   "id": "f808480c",
   "metadata": {},
   "source": [
    "# Exploring Text Generation as a Defense\n",
    "\n",
    "This notebook explores how the text generation capabilities of Large Language Models (LLMs) can be used to defend targeted systems and models from attacks."
   ]
  },
  {
   "cell_type": "markdown",
   "id": "004834e8",
   "metadata": {},
   "source": [
    "## Defending Systems"
   ]
  },
  {
   "cell_type": "markdown",
   "id": "89c812a7",
   "metadata": {},
   "source": [
    "### Victim Model: Sentiment Classifier\n",
    "\n",
    "The previous targeted victim system may be subject to adversarial attacks aimed at making it produce incorrect predictions."
   ]
  },
  {
   "cell_type": "code",
   "execution_count": null,
   "id": "84a52acd",
   "metadata": {},
   "outputs": [],
   "source": [
    "from transformers import pipeline\n",
    "\n",
    "clf = pipeline(\"sentiment-analysis\")\n",
    "\n",
    "clf(\"I lov usin thse modles!\")"
   ]
  },
  {
   "cell_type": "markdown",
   "id": "80f8d375",
   "metadata": {},
   "source": [
    "### LLM Defense: Purifying Adversarial Inputs\n",
    "\n",
    "As it was possible to introduce modifications to mislead victim models, it is also possible to perturb the text to clean it from common attacks."
   ]
  },
  {
   "cell_type": "code",
   "execution_count": null,
   "id": "549666b5",
   "metadata": {},
   "outputs": [],
   "source": [
    "prompt = \"\"\"Rewrite the text to reflect how a typical human user would write it. Only answer the transformed text.\n",
    "\n",
    "Text: \"I lov usin thse modles!\"\n",
    "Answer:\"\"\"\n",
    "\n",
    "print(prompt)"
   ]
  },
  {
   "cell_type": "code",
   "execution_count": null,
   "id": "5788137e",
   "metadata": {},
   "outputs": [],
   "source": [
    "!echo \"{prompt}\" | ollama run llama3:instruct"
   ]
  },
  {
   "cell_type": "markdown",
   "id": "39a3734e",
   "metadata": {},
   "source": [
    "### Victim Model: Sentiment Classifier\n",
    "\n",
    "This cleaning process makes the target system receive inputs that more closely match its expected format."
   ]
  },
  {
   "cell_type": "code",
   "execution_count": null,
   "id": "511bb35d",
   "metadata": {},
   "outputs": [],
   "source": [
    "from transformers import pipeline\n",
    "\n",
    "clf = pipeline(\"sentiment-analysis\")\n",
    "\n",
    "clf(\"I love using these models!\")"
   ]
  }
 ],
 "metadata": {
  "kernelspec": {
   "display_name": "Python 3",
   "language": "python",
   "name": "python3"
  },
  "language_info": {
   "codemirror_mode": {
    "name": "ipython",
    "version": 3
   },
   "file_extension": ".py",
   "mimetype": "text/x-python",
   "name": "python",
   "nbconvert_exporter": "python",
   "pygments_lexer": "ipython3",
   "version": "3.12.11"
  }
 },
 "nbformat": 4,
 "nbformat_minor": 5
}
